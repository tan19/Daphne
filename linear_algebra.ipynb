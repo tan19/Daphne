{
 "cells": [
  {
   "cell_type": "code",
   "execution_count": 70,
   "metadata": {},
   "outputs": [
    {
     "data": {
      "text/plain": [
       "[<matplotlib.lines.Line2D at 0x229ac7f1b80>]"
      ]
     },
     "execution_count": 70,
     "metadata": {},
     "output_type": "execute_result"
    },
    {
     "data": {
      "image/png": "[encoded data removed]",
      "text/plain": [
       "<Figure size 432x288 with 1 Axes>"
      ]
     },
     "metadata": {
      "needs_background": "light"
     },
     "output_type": "display_data"
    }
   ],
   "source": [
    "import numpy as np\n",
    "from scipy.misc import ascent\n",
    "from scipy.linalg import svd\n",
    "import matplotlib.pyplot as plt\n",
    "\n",
    "from PIL import Image\n",
    "\n",
    "data = np.uint8(ascent())\n",
    "U, S, VT = svd(data)\n",
    "\n",
    "image = Image.fromarray(data)\n",
    "image.show()\n",
    "\n",
    "plt.plot(np.cumsum(S)/sum(S) * 100)"
   ]
  },
  {
   "cell_type": "code",
   "execution_count": 80,
   "metadata": {},
   "outputs": [],
   "source": [
    "\n",
    "svd_data = np.zeros(data.shape, dtype=np.float32)\n",
    "for i in range(400):    \n",
    "    svd_data += S[i] * np.outer(U[:,i], VT[i,:])\n",
    "        \n",
    "svd_data = np.uint8(svd_data)\n",
    "svd_image = Image.fromarray(svd_data)\n",
    "svd_image.show()"
   ]
  }
 ],
 "metadata": {
  "interpreter": {
   "hash": "7739006a151c9665ad246e9073187ed95c6d3191911b84a76a57a0f8373bf5d6"
  },
  "kernelspec": {
   "display_name": "Python 3.9.6 64-bit",
   "language": "python",
   "name": "python3"
  },
  "language_info": {
   "codemirror_mode": {
    "name": "ipython",
    "version": 3
   },
   "file_extension": ".py",
   "mimetype": "text/x-python",
   "name": "python",
   "nbconvert_exporter": "python",
   "pygments_lexer": "ipython3",
   "version": "3.9.6"
  },
  "orig_nbformat": 4
 },
 "nbformat": 4,
 "nbformat_minor": 2
}
